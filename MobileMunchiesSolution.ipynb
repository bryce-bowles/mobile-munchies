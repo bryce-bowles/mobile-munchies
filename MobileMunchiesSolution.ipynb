{
 "cells": [
  {
   "cell_type": "markdown",
   "metadata": {},
   "source": [
    "Define data."
   ]
  },
  {
   "cell_type": "code",
   "execution_count": 6,
   "metadata": {},
   "outputs": [],
   "source": [
    "J = ['peach', 'raspberry']\n",
    "profit = {'peach': 8, 'raspberry': 12}\n",
    "sugarReq = {'peach': 4, 'raspberry': 3}\n",
    "juiceReq = {'peach': 1, 'raspberry': 2}\n",
    "demand = {'peach': 4, 'raspberry': 2}\n",
    "juiceAvail = 5\n",
    "sugarAvail =12 "
   ]
  },
  {
   "cell_type": "markdown",
   "metadata": {},
   "source": [
    "Import Pyomo and declare a model object."
   ]
  },
  {
   "cell_type": "code",
   "execution_count": 7,
   "metadata": {},
   "outputs": [],
   "source": [
    "from pyomo.environ import *\n",
    "\n",
    "model = ConcreteModel()"
   ]
  },
  {
   "cell_type": "markdown",
   "metadata": {},
   "source": [
    "Declare nonnegative variables for peach and raspberry lemonade."
   ]
  },
  {
   "cell_type": "code",
   "execution_count": 8,
   "metadata": {},
   "outputs": [
    {
     "name": "stdout",
     "output_type": "stream",
     "text": [
      "Defining variables for first time\n"
     ]
    }
   ],
   "source": [
    "try: \n",
    "    model.del_component(model.x)\n",
    "    model.del_component(model.x_index)\n",
    "except:\n",
    "    print(\"Defining variables for first time\")\n",
    "model.x = Var(J, domain=NonNegativeReals)\n"
   ]
  },
  {
   "cell_type": "markdown",
   "metadata": {},
   "source": [
    "Define the objective function."
   ]
  },
  {
   "cell_type": "code",
   "execution_count": 9,
   "metadata": {
    "scrolled": true
   },
   "outputs": [
    {
     "name": "stdout",
     "output_type": "stream",
     "text": [
      "Defining objective for the first time\n"
     ]
    }
   ],
   "source": [
    "try:\n",
    "    model.del_component(model.Profit)\n",
    "except:\n",
    "    print(\"Defining objective for the first time\")\n",
    "model.Profit = Objective(expr = sum(profit[i]*model.x[i] for i in J), sense=maximize)"
   ]
  },
  {
   "cell_type": "markdown",
   "metadata": {},
   "source": [
    "Specify the juice constraint. "
   ]
  },
  {
   "cell_type": "code",
   "execution_count": 10,
   "metadata": {},
   "outputs": [
    {
     "name": "stdout",
     "output_type": "stream",
     "text": [
      "Defining JuiceConstraint for the first time\n"
     ]
    }
   ],
   "source": [
    "try:\n",
    "    model.del_component(model.JuiceConstraint)\n",
    "except:\n",
    "    print(\"Defining JuiceConstraint for the first time\")\n",
    "model.JuiceConstraint = Constraint(expr = sum(juiceReq[i]*model.x[i] for i in J) <= juiceAvail)"
   ]
  },
  {
   "cell_type": "markdown",
   "metadata": {},
   "source": [
    "Specify the sugar constraint."
   ]
  },
  {
   "cell_type": "code",
   "execution_count": 11,
   "metadata": {},
   "outputs": [
    {
     "name": "stdout",
     "output_type": "stream",
     "text": [
      "Defining SugarConstraint for the first time\n"
     ]
    }
   ],
   "source": [
    "try:\n",
    "    model.del_component(model.SugarConstraint)\n",
    "except:\n",
    "    print(\"Defining SugarConstraint for the first time\")\n",
    "model.SugarConstraint = Constraint(expr = sum(sugarReq[i]*model.x[i] for i in J) <= sugarAvail)"
   ]
  },
  {
   "cell_type": "code",
   "execution_count": 12,
   "metadata": {},
   "outputs": [
    {
     "name": "stdout",
     "output_type": "stream",
     "text": [
      "1 Set Declarations\n",
      "    x_index : Dim=0, Dimen=1, Size=2, Domain=None, Ordered=False, Bounds=None\n",
      "        ['peach', 'raspberry']\n",
      "\n",
      "1 Var Declarations\n",
      "    x : Size=2, Index=x_index\n",
      "        Key       : Lower : Value : Upper : Fixed : Stale : Domain\n",
      "            peach :     0 :  None :  None : False :  True : NonNegativeReals\n",
      "        raspberry :     0 :  None :  None : False :  True : NonNegativeReals\n",
      "\n",
      "1 Objective Declarations\n",
      "    Profit : Size=1, Index=None, Active=True\n",
      "        Key  : Active : Sense    : Expression\n",
      "        None :   True : maximize : 8*x[peach] + 12*x[raspberry]\n",
      "\n",
      "2 Constraint Declarations\n",
      "    JuiceConstraint : Size=1, Index=None, Active=True\n",
      "        Key  : Lower : Body                      : Upper : Active\n",
      "        None :  -Inf : x[peach] + 2*x[raspberry] :   5.0 :   True\n",
      "    SugarConstraint : Size=1, Index=None, Active=True\n",
      "        Key  : Lower : Body                        : Upper : Active\n",
      "        None :  -Inf : 4*x[peach] + 3*x[raspberry] :  12.0 :   True\n",
      "\n",
      "5 Declarations: x_index x Profit JuiceConstraint SugarConstraint\n"
     ]
    }
   ],
   "source": [
    "model.pprint()"
   ]
  },
  {
   "cell_type": "markdown",
   "metadata": {},
   "source": [
    "Add the demand constraints as a set of constraints.  Define the list of constraints in a separate chunk."
   ]
  },
  {
   "cell_type": "code",
   "execution_count": 13,
   "metadata": {},
   "outputs": [
    {
     "name": "stdout",
     "output_type": "stream",
     "text": [
      "Defining demand constraints for the first time)\n"
     ]
    }
   ],
   "source": [
    "try:\n",
    "    model.del_component(model.Demand)\n",
    "    model.del_component(model.Demand_index)\n",
    "except:\n",
    "    print(\"Defining demand constraints for the first time)\")\n",
    "model.Demand = ConstraintList()"
   ]
  },
  {
   "cell_type": "markdown",
   "metadata": {},
   "source": [
    "Now add a constraint for each lemonade."
   ]
  },
  {
   "cell_type": "code",
   "execution_count": 14,
   "metadata": {},
   "outputs": [],
   "source": [
    "for i in J:\n",
    "    model.Demand.add(model.x[i] <= demand[i])"
   ]
  },
  {
   "cell_type": "markdown",
   "metadata": {},
   "source": [
    "Specify solver and solve.\n"
   ]
  },
  {
   "cell_type": "code",
   "execution_count": 15,
   "metadata": {},
   "outputs": [],
   "source": [
    "\n",
    "solver = SolverFactory('glpk')\n",
    "status = solver.solve(model)"
   ]
  },
  {
   "cell_type": "markdown",
   "metadata": {},
   "source": [
    "Get status."
   ]
  },
  {
   "cell_type": "code",
   "execution_count": 16,
   "metadata": {},
   "outputs": [
    {
     "name": "stdout",
     "output_type": "stream",
     "text": [
      "Status = \n",
      "Problem: \n",
      "- Name: unknown\n",
      "  Lower bound: 33.6\n",
      "  Upper bound: 33.6\n",
      "  Number of objectives: 1\n",
      "  Number of constraints: 5\n",
      "  Number of variables: 3\n",
      "  Number of nonzeros: 7\n",
      "  Sense: maximize\n",
      "Solver: \n",
      "- Status: ok\n",
      "  Termination condition: optimal\n",
      "  Statistics: \n",
      "    Branch and bound: \n",
      "      Number of bounded subproblems: 0\n",
      "      Number of created subproblems: 0\n",
      "  Error rc: 0\n",
      "  Time: 0.013503313064575195\n",
      "Solution: \n",
      "- number of solutions: 0\n",
      "  number of solutions displayed: 0\n",
      "\n"
     ]
    }
   ],
   "source": [
    "print('Status = %s' % status)"
   ]
  },
  {
   "cell_type": "markdown",
   "metadata": {},
   "source": [
    "Get solution and objective function value."
   ]
  },
  {
   "cell_type": "code",
   "execution_count": 17,
   "metadata": {},
   "outputs": [
    {
     "name": "stdout",
     "output_type": "stream",
     "text": [
      "x[peach] = 1.800000\n",
      "x[raspberry] = 1.600000\n",
      "Objective = 33.600000\n"
     ]
    }
   ],
   "source": [
    "for i in J:\n",
    "    print('%s = %f' % (model.x[i], value(model.x[i])))\n",
    "print(\"Objective = %f\" % value(model.Profit))"
   ]
  },
  {
   "cell_type": "markdown",
   "metadata": {},
   "source": [
    "The optimal solution is to produce 1.8 gallons of peach lemonade and 1.5 gallons of raspberry lemonade for a profit of \\$33.60."
   ]
  }
 ],
 "metadata": {
  "kernelspec": {
   "display_name": "Python 3",
   "language": "python",
   "name": "python3"
  },
  "language_info": {
   "codemirror_mode": {
    "name": "ipython",
    "version": 3
   },
   "file_extension": ".py",
   "mimetype": "text/x-python",
   "name": "python",
   "nbconvert_exporter": "python",
   "pygments_lexer": "ipython3",
   "version": "3.7.1"
  }
 },
 "nbformat": 4,
 "nbformat_minor": 2
}
